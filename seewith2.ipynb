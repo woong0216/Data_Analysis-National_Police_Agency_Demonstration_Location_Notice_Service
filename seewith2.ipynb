{
 "cells": [
  {
   "cell_type": "markdown",
   "metadata": {},
   "source": [
    "###\n",
    "\n",
    "import PyPDF2\n",
    "\n",
    "PDFfilename = \"./data/190218.pdf\" #filename of your PDF/directory where your PDF is stored\n",
    "\n",
    "pfr = PyPDF2.PdfFileReader(open(PDFfilename, \"rb\")) #PdfFileReader object\n",
    "\n",
    "pg0 = pfr.getPage(0) #extract pg 127\n",
    "\n",
    "writer = PyPDF2.PdfFileWriter() #create PdfFileWriter object\n",
    "#add pages\n",
    "writer.addPage(pg0)\n",
    "\n",
    "NewPDFfilename = \"allTables.csv\" #filename of your PDF/directory where you want your new PDF to be\n",
    "with open(NewPDFfilename, \"wb\") as outputStream:\n",
    "    writer.write(outputStream) #write pages to new PDF"
   ]
  },
  {
   "cell_type": "markdown",
   "metadata": {},
   "source": [
    "###\n",
    "\n",
    "pip install git+https://github.com/pdftables/python-pdftables-api.git"
   ]
  },
  {
   "cell_type": "markdown",
   "metadata": {},
   "source": [
    "###\n",
    "\n",
    "pip install https://github.com/pdftables/python-pdftables-api/archive/master.tar.gz\n",
    "import pdftables_api\n",
    "\n",
    "c = pdftables_api.Client('zs2k6h51h1t5')\n",
    "c.xlsx('./data/190220.pdf', '190220plan') #replace c.xlsx with c.csv to convert to CSV"
   ]
  },
  {
   "cell_type": "code",
   "execution_count": 2,
   "metadata": {},
   "outputs": [],
   "source": [
    "import pandas as pd\n",
    "import numpy as np"
   ]
  },
  {
   "cell_type": "code",
   "execution_count": 3,
   "metadata": {},
   "outputs": [
    {
     "data": {
      "text/html": [
       "<div>\n",
       "<style scoped>\n",
       "    .dataframe tbody tr th:only-of-type {\n",
       "        vertical-align: middle;\n",
       "    }\n",
       "\n",
       "    .dataframe tbody tr th {\n",
       "        vertical-align: top;\n",
       "    }\n",
       "\n",
       "    .dataframe thead th {\n",
       "        text-align: right;\n",
       "    }\n",
       "</style>\n",
       "<table border=\"1\" class=\"dataframe\">\n",
       "  <thead>\n",
       "    <tr style=\"text-align: right;\">\n",
       "      <th></th>\n",
       "      <th>집회 날짜</th>\n",
       "      <th>집회 일시</th>\n",
       "      <th>집회 장소</th>\n",
       "      <th>신고 인원</th>\n",
       "      <th>관할서</th>\n",
       "      <th>비고</th>\n",
       "    </tr>\n",
       "  </thead>\n",
       "  <tbody>\n",
       "    <tr>\n",
       "      <th>0</th>\n",
       "      <td>2019.02.14</td>\n",
       "      <td>05:30∼10:00</td>\n",
       "      <td>GS건설현장 신대방동</td>\n",
       "      <td>500</td>\n",
       "      <td>동작</td>\n",
       "      <td>NaN</td>\n",
       "    </tr>\n",
       "    <tr>\n",
       "      <th>1</th>\n",
       "      <td>2019.02.14</td>\n",
       "      <td>10:00∼종료시</td>\n",
       "      <td>마포역</td>\n",
       "      <td>130</td>\n",
       "      <td>마포</td>\n",
       "      <td>NaN</td>\n",
       "    </tr>\n",
       "  </tbody>\n",
       "</table>\n",
       "</div>"
      ],
      "text/plain": [
       "        집회 날짜        집회 일시        집회 장소  신고 인원 관할서  비고\n",
       "0  2019.02.14  05:30∼10:00  GS건설현장 신대방동    500  동작 NaN\n",
       "1  2019.02.14    10:00∼종료시          마포역    130  마포 NaN"
      ]
     },
     "execution_count": 3,
     "metadata": {},
     "output_type": "execute_result"
    }
   ],
   "source": [
    "seewith14 = pd.read_csv('190214plan.csv', encoding='euc-kr')\n",
    "seewith14.head(2)"
   ]
  },
  {
   "cell_type": "markdown",
   "metadata": {},
   "source": [
    "###\n",
    "\n",
    "import csv\n",
    "import glob\n",
    "import os\n",
    "import sys\n",
    "\n",
    "input_path = \"C:\\\\Users\\\\student\\\\Desktop\\\\seewith\"\n",
    "output_file = 'result.csv' \n",
    "first_file = True\n",
    "\n",
    "for input_file in glob.glob(os.path.join(input_path,'*plan.csv')):\n",
    "    print(os.path.basename(input_file))\n",
    "    with open(input_file, 'r', newline='') as csv_in_file:\n",
    "      with open(output_file, 'a', newline='') as csv_out_file:\n",
    "        filereader = csv.reader(csv_in_file)\n",
    "        filewriter = csv.writer(csv_out_file)\n",
    "        if first_file:\n",
    "          for row in filereader:\n",
    "            filewriter.writerow(row)\n",
    "          first_file = False\n",
    "        else:\n",
    "          header = next(filereader)\n",
    "          for row in filereader:\n",
    "            filewriter.writerow(row)"
   ]
  },
  {
   "cell_type": "code",
   "execution_count": 5,
   "metadata": {},
   "outputs": [
    {
     "data": {
      "text/html": [
       "<div>\n",
       "<style scoped>\n",
       "    .dataframe tbody tr th:only-of-type {\n",
       "        vertical-align: middle;\n",
       "    }\n",
       "\n",
       "    .dataframe tbody tr th {\n",
       "        vertical-align: top;\n",
       "    }\n",
       "\n",
       "    .dataframe thead th {\n",
       "        text-align: right;\n",
       "    }\n",
       "</style>\n",
       "<table border=\"1\" class=\"dataframe\">\n",
       "  <thead>\n",
       "    <tr style=\"text-align: right;\">\n",
       "      <th></th>\n",
       "      <th>집회 날짜</th>\n",
       "      <th>집회 일시</th>\n",
       "      <th>집회 장소</th>\n",
       "      <th>신고 인원</th>\n",
       "      <th>관할서</th>\n",
       "      <th>비고</th>\n",
       "    </tr>\n",
       "  </thead>\n",
       "  <tbody>\n",
       "    <tr>\n",
       "      <th>0</th>\n",
       "      <td>2019.02.14</td>\n",
       "      <td>05:30∼10:00</td>\n",
       "      <td>GS건설현장 신대방동</td>\n",
       "      <td>500</td>\n",
       "      <td>동작</td>\n",
       "      <td>NaN</td>\n",
       "    </tr>\n",
       "    <tr>\n",
       "      <th>1</th>\n",
       "      <td>2019.02.14</td>\n",
       "      <td>10:00∼종료시</td>\n",
       "      <td>마포역</td>\n",
       "      <td>130</td>\n",
       "      <td>마포</td>\n",
       "      <td>NaN</td>\n",
       "    </tr>\n",
       "  </tbody>\n",
       "</table>\n",
       "</div>"
      ],
      "text/plain": [
       "        집회 날짜        집회 일시        집회 장소  신고 인원 관할서  비고\n",
       "0  2019.02.14  05:30∼10:00  GS건설현장 신대방동    500  동작 NaN\n",
       "1  2019.02.14    10:00∼종료시          마포역    130  마포 NaN"
      ]
     },
     "execution_count": 5,
     "metadata": {},
     "output_type": "execute_result"
    }
   ],
   "source": [
    "seewith = pd.read_csv('190214plan.csv', encoding='euc-kr')\n",
    "seewith.head(2)\n",
    "# revise1 = seewith.sort_index(ascending=False)\n",
    "# revise1.head(2)"
   ]
  },
  {
   "cell_type": "code",
   "execution_count": 6,
   "metadata": {},
   "outputs": [],
   "source": [
    "# KAKAO_REST_APIKEY = '14a8c6f41a5695f5cbdf4dc98a50659f'"
   ]
  },
  {
   "cell_type": "code",
   "execution_count": 7,
   "metadata": {},
   "outputs": [
    {
     "data": {
      "text/plain": [
       "Index(['집회 날짜', '집회 일시', '집회 장소', '신고 인원', '관할서', '비고'], dtype='object')"
      ]
     },
     "execution_count": 7,
     "metadata": {},
     "output_type": "execute_result"
    }
   ],
   "source": [
    "seewith.columns"
   ]
  },
  {
   "cell_type": "code",
   "execution_count": 8,
   "metadata": {},
   "outputs": [],
   "source": [
    "tmp = seewith.pivot_table( index=['관할서'], columns=['집회 날짜'] ) \n",
    "tmp\n",
    "revise=tmp"
   ]
  },
  {
   "cell_type": "code",
   "execution_count": 9,
   "metadata": {},
   "outputs": [
    {
     "data": {
      "text/html": [
       "<div>\n",
       "<style scoped>\n",
       "    .dataframe tbody tr th:only-of-type {\n",
       "        vertical-align: middle;\n",
       "    }\n",
       "\n",
       "    .dataframe tbody tr th {\n",
       "        vertical-align: top;\n",
       "    }\n",
       "\n",
       "    .dataframe thead tr th {\n",
       "        text-align: left;\n",
       "    }\n",
       "\n",
       "    .dataframe thead tr:last-of-type th {\n",
       "        text-align: right;\n",
       "    }\n",
       "</style>\n",
       "<table border=\"1\" class=\"dataframe\">\n",
       "  <thead>\n",
       "    <tr>\n",
       "      <th></th>\n",
       "      <th>신고 인원</th>\n",
       "    </tr>\n",
       "    <tr>\n",
       "      <th>집회 날짜</th>\n",
       "      <th>2019.02.14</th>\n",
       "    </tr>\n",
       "    <tr>\n",
       "      <th>관할서</th>\n",
       "      <th></th>\n",
       "    </tr>\n",
       "  </thead>\n",
       "  <tbody>\n",
       "    <tr>\n",
       "      <th>금천</th>\n",
       "      <td>200.0</td>\n",
       "    </tr>\n",
       "    <tr>\n",
       "      <th>남대문</th>\n",
       "      <td>50.0</td>\n",
       "    </tr>\n",
       "    <tr>\n",
       "      <th>동대문</th>\n",
       "      <td>60.0</td>\n",
       "    </tr>\n",
       "    <tr>\n",
       "      <th>동작</th>\n",
       "      <td>500.0</td>\n",
       "    </tr>\n",
       "    <tr>\n",
       "      <th>마포</th>\n",
       "      <td>130.0</td>\n",
       "    </tr>\n",
       "  </tbody>\n",
       "</table>\n",
       "</div>"
      ],
      "text/plain": [
       "           신고 인원\n",
       "집회 날짜 2019.02.14\n",
       "관할서             \n",
       "금천         200.0\n",
       "남대문         50.0\n",
       "동대문         60.0\n",
       "동작         500.0\n",
       "마포         130.0"
      ]
     },
     "execution_count": 9,
     "metadata": {},
     "output_type": "execute_result"
    }
   ],
   "source": [
    "tmp[:] = tmp[:].fillna(0)\n",
    "tmp.head()"
   ]
  },
  {
   "cell_type": "code",
   "execution_count": 10,
   "metadata": {},
   "outputs": [
    {
     "data": {
      "text/plain": [
       "Index(['금천', '남대문', '동대문', '동작', '마포', '영등포', '용산', '종로'], dtype='object', name='관할서')"
      ]
     },
     "execution_count": 10,
     "metadata": {},
     "output_type": "execute_result"
    }
   ],
   "source": [
    "tmp.index"
   ]
  },
  {
   "cell_type": "code",
   "execution_count": 11,
   "metadata": {},
   "outputs": [
    {
     "data": {
      "text/plain": [
       "MultiIndex(levels=[['비고', '신고 인원'], ['2019.02.14']],\n",
       "           labels=[[1], [0]],\n",
       "           names=[None, '집회 날짜'])"
      ]
     },
     "execution_count": 11,
     "metadata": {},
     "output_type": "execute_result"
    }
   ],
   "source": [
    "tmp.columns"
   ]
  },
  {
   "cell_type": "code",
   "execution_count": 12,
   "metadata": {},
   "outputs": [
    {
     "data": {
      "text/plain": [
       "Index(['2019.02.14'], dtype='object', name='집회 날짜')"
      ]
     },
     "execution_count": 12,
     "metadata": {},
     "output_type": "execute_result"
    }
   ],
   "source": [
    "tmp.columns.levels[0]\n",
    "tmp.columns.levels[1]"
   ]
  },
  {
   "cell_type": "code",
   "execution_count": 13,
   "metadata": {},
   "outputs": [],
   "source": [
    "KAKAO_REST_APIKEY = '14a8c6f41a5695f5cbdf4dc98a50659f'"
   ]
  },
  {
   "cell_type": "code",
   "execution_count": 14,
   "metadata": {
    "scrolled": true
   },
   "outputs": [
    {
     "data": {
      "text/plain": [
       "['서울금천경찰서',\n",
       " '서울남대문경찰서',\n",
       " '서울동대문경찰서',\n",
       " '서울동작경찰서',\n",
       " '서울마포경찰서',\n",
       " '서울영등포경찰서',\n",
       " '서울용산경찰서',\n",
       " '서울종로경찰서']"
      ]
     },
     "execution_count": 14,
     "metadata": {},
     "output_type": "execute_result"
    }
   ],
   "source": [
    "tmp_names = []\n",
    "# tmp.index.unique()\n",
    "for n in tmp.index:\n",
    "    tmp_names.append('서울' + n + '경찰서' )\n",
    "tmp_names\n",
    "\n",
    "tmp_names = ['서울' + n + '경찰서' for n in tmp.index]\n",
    "tmp_names"
   ]
  },
  {
   "cell_type": "code",
   "execution_count": 15,
   "metadata": {},
   "outputs": [
    {
     "data": {
      "text/html": [
       "<div>\n",
       "<style scoped>\n",
       "    .dataframe tbody tr th:only-of-type {\n",
       "        vertical-align: middle;\n",
       "    }\n",
       "\n",
       "    .dataframe tbody tr th {\n",
       "        vertical-align: top;\n",
       "    }\n",
       "\n",
       "    .dataframe thead tr th {\n",
       "        text-align: left;\n",
       "    }\n",
       "\n",
       "    .dataframe thead tr:last-of-type th {\n",
       "        text-align: right;\n",
       "    }\n",
       "</style>\n",
       "<table border=\"1\" class=\"dataframe\">\n",
       "  <thead>\n",
       "    <tr>\n",
       "      <th></th>\n",
       "      <th>신고 인원</th>\n",
       "    </tr>\n",
       "    <tr>\n",
       "      <th>집회 날짜</th>\n",
       "      <th>2019.02.14</th>\n",
       "    </tr>\n",
       "    <tr>\n",
       "      <th>관할서</th>\n",
       "      <th></th>\n",
       "    </tr>\n",
       "  </thead>\n",
       "  <tbody>\n",
       "    <tr>\n",
       "      <th>금천</th>\n",
       "      <td>200.0</td>\n",
       "    </tr>\n",
       "    <tr>\n",
       "      <th>남대문</th>\n",
       "      <td>50.0</td>\n",
       "    </tr>\n",
       "  </tbody>\n",
       "</table>\n",
       "</div>"
      ],
      "text/plain": [
       "           신고 인원\n",
       "집회 날짜 2019.02.14\n",
       "관할서             \n",
       "금천         200.0\n",
       "남대문         50.0"
      ]
     },
     "execution_count": 15,
     "metadata": {},
     "output_type": "execute_result"
    }
   ],
   "source": [
    "tmp.head(2)"
   ]
  },
  {
   "cell_type": "code",
   "execution_count": 16,
   "metadata": {},
   "outputs": [
    {
     "name": "stderr",
     "output_type": "stream",
     "text": [
      "\r",
      "  0%|          | 0/8 [00:00<?, ?it/s]"
     ]
    },
    {
     "name": "stdout",
     "output_type": "stream",
     "text": [
      "<http.client.HTTPResponse object at 0x0000000007A5EE48>\n",
      "정상응답 서울 금천구 시흥동 산 189 126.89674921449215 126.89674921449215\n"
     ]
    },
    {
     "name": "stderr",
     "output_type": "stream",
     "text": [
      "\n"
     ]
    }
   ],
   "source": [
    "# https://dapi.kakao.com/v2/local/search/keyword.json?query=서울중부경찰서\n",
    "from tqdm import tqdm # 진행율\n",
    "# 통신(http)을 하기 위한 모듈\n",
    "from urllib.request import urlopen, Request\n",
    "import urllib\n",
    "import json\n",
    "\n",
    "URL = 'https://dapi.kakao.com/v2/local/search/keyword.json?query='\n",
    "for tmp in tqdm(tmp_names):\n",
    "    # print(URL + urllib.parse.quote(tmp))\n",
    "    # 전문구성 (공백이나 한글을 URL 인코딩 처리를 해야한다)\n",
    "    req = Request(URL + urllib.parse.quote(tmp))\n",
    "    req.add_header('Authorization', 'KakaoAK 14a8c6f41a5695f5cbdf4dc98a50659f')\n",
    "    # 요청\n",
    "    res = urlopen(req)\n",
    "    print(res)\n",
    "    # 응답 데이터 json 파싱 => 200\n",
    "    if res.code == 200:\n",
    "        # 파싱\n",
    "        dummy = json.load(res)\n",
    "        print('정상응답', dummy['documents'][0]['address_name'],dummy['documents'][0]['x'],dummy['documents'][0]['x'])\n",
    "        #documents의 첫번째 데이터의 address_name, x, y 출력\n",
    "        # 파싱 결과로 주소, x, y를 적제\n",
    "        \n",
    "    break"
   ]
  },
  {
   "cell_type": "code",
   "execution_count": 17,
   "metadata": {},
   "outputs": [
    {
     "name": "stderr",
     "output_type": "stream",
     "text": [
      "100%|██████████| 8/8 [00:00<00:00, 10.51it/s]\n"
     ]
    }
   ],
   "source": [
    "address = []   # 주소\n",
    "lats    = []   # 위도\n",
    "lngs    = []   # 경도\n",
    "\n",
    "for tmp in tqdm(tmp_names):\n",
    "    req = Request(URL + urllib.parse.quote(tmp))\n",
    "    req.add_header('Authorization', 'KakaoAK 14a8c6f41a5695f5cbdf4dc98a50659f')\n",
    "    res = urlopen(req)\n",
    "    if res.code == 200:\n",
    "        dummy = json.load(res)\n",
    "        # 데이터 적제\n",
    "        address.append(dummy['documents'][0]['address_name'])\n",
    "        lats.append(dummy['documents'][0]['x'])\n",
    "        lngs.append(dummy['documents'][0]['y'])"
   ]
  },
  {
   "cell_type": "code",
   "execution_count": 18,
   "metadata": {},
   "outputs": [
    {
     "data": {
      "text/plain": [
       "(8, 8, 8)"
      ]
     },
     "execution_count": 18,
     "metadata": {},
     "output_type": "execute_result"
    }
   ],
   "source": [
    "len(address), len(lats), len(lngs)"
   ]
  },
  {
   "cell_type": "code",
   "execution_count": 19,
   "metadata": {},
   "outputs": [],
   "source": [
    "revise['주소'] = address\n",
    "revise['위도'] = lats\n",
    "revise['경도'] = lngs"
   ]
  },
  {
   "cell_type": "code",
   "execution_count": 20,
   "metadata": {},
   "outputs": [
    {
     "data": {
      "text/html": [
       "<div>\n",
       "<style scoped>\n",
       "    .dataframe tbody tr th:only-of-type {\n",
       "        vertical-align: middle;\n",
       "    }\n",
       "\n",
       "    .dataframe tbody tr th {\n",
       "        vertical-align: top;\n",
       "    }\n",
       "\n",
       "    .dataframe thead tr th {\n",
       "        text-align: left;\n",
       "    }\n",
       "\n",
       "    .dataframe thead tr:last-of-type th {\n",
       "        text-align: right;\n",
       "    }\n",
       "</style>\n",
       "<table border=\"1\" class=\"dataframe\">\n",
       "  <thead>\n",
       "    <tr>\n",
       "      <th></th>\n",
       "      <th>신고 인원</th>\n",
       "      <th>위도</th>\n",
       "      <th>경도</th>\n",
       "    </tr>\n",
       "    <tr>\n",
       "      <th>집회 날짜</th>\n",
       "      <th>2019.02.14</th>\n",
       "      <th></th>\n",
       "      <th></th>\n",
       "    </tr>\n",
       "    <tr>\n",
       "      <th>관할서</th>\n",
       "      <th></th>\n",
       "      <th></th>\n",
       "      <th></th>\n",
       "    </tr>\n",
       "  </thead>\n",
       "  <tbody>\n",
       "    <tr>\n",
       "      <th>금천</th>\n",
       "      <td>200.0</td>\n",
       "      <td>126.89674921449215</td>\n",
       "      <td>37.45725314643252</td>\n",
       "    </tr>\n",
       "    <tr>\n",
       "      <th>남대문</th>\n",
       "      <td>50.0</td>\n",
       "      <td>126.973499492486</td>\n",
       "      <td>37.5549786547527</td>\n",
       "    </tr>\n",
       "  </tbody>\n",
       "</table>\n",
       "</div>"
      ],
      "text/plain": [
       "           신고 인원                  위도                 경도\n",
       "집회 날짜 2019.02.14                                       \n",
       "관할서                                                    \n",
       "금천         200.0  126.89674921449215  37.45725314643252\n",
       "남대문         50.0    126.973499492486   37.5549786547527"
      ]
     },
     "execution_count": 20,
     "metadata": {},
     "output_type": "execute_result"
    }
   ],
   "source": [
    "revise2 = revise.loc[:, ['신고 인원','위도','경도'] ]\n",
    "revise2.head(2)"
   ]
  },
  {
   "cell_type": "code",
   "execution_count": 21,
   "metadata": {},
   "outputs": [
    {
     "data": {
      "text/plain": [
       "Index(['비고', '신고 인원', '주소', '위도', '경도'], dtype='object')"
      ]
     },
     "execution_count": 21,
     "metadata": {},
     "output_type": "execute_result"
    }
   ],
   "source": [
    "revise2.columns.levels[0]"
   ]
  },
  {
   "cell_type": "code",
   "execution_count": 36,
   "metadata": {},
   "outputs": [],
   "source": [
    "new_revise2 = [ \"%s\" % ( col ) \n",
    "              for col in revise2.columns.levels[1]\n",
    "            ]\n",
    "new_revise3 = ['2019.02.14', '위도', '경도']"
   ]
  },
  {
   "cell_type": "code",
   "execution_count": 37,
   "metadata": {},
   "outputs": [
    {
     "data": {
      "text/html": [
       "<div>\n",
       "<style scoped>\n",
       "    .dataframe tbody tr th:only-of-type {\n",
       "        vertical-align: middle;\n",
       "    }\n",
       "\n",
       "    .dataframe tbody tr th {\n",
       "        vertical-align: top;\n",
       "    }\n",
       "\n",
       "    .dataframe thead th {\n",
       "        text-align: right;\n",
       "    }\n",
       "</style>\n",
       "<table border=\"1\" class=\"dataframe\">\n",
       "  <thead>\n",
       "    <tr style=\"text-align: right;\">\n",
       "      <th></th>\n",
       "      <th>2019.02.14</th>\n",
       "      <th>위도</th>\n",
       "      <th>경도</th>\n",
       "    </tr>\n",
       "    <tr>\n",
       "      <th>관할서</th>\n",
       "      <th></th>\n",
       "      <th></th>\n",
       "      <th></th>\n",
       "    </tr>\n",
       "  </thead>\n",
       "  <tbody>\n",
       "    <tr>\n",
       "      <th>금천</th>\n",
       "      <td>200.0</td>\n",
       "      <td>126.89674921449215</td>\n",
       "      <td>37.45725314643252</td>\n",
       "    </tr>\n",
       "    <tr>\n",
       "      <th>남대문</th>\n",
       "      <td>50.0</td>\n",
       "      <td>126.973499492486</td>\n",
       "      <td>37.5549786547527</td>\n",
       "    </tr>\n",
       "    <tr>\n",
       "      <th>동대문</th>\n",
       "      <td>60.0</td>\n",
       "      <td>127.04576239696928</td>\n",
       "      <td>37.58508176321097</td>\n",
       "    </tr>\n",
       "    <tr>\n",
       "      <th>동작</th>\n",
       "      <td>500.0</td>\n",
       "      <td>126.94285899341229</td>\n",
       "      <td>37.513147550556226</td>\n",
       "    </tr>\n",
       "    <tr>\n",
       "      <th>마포</th>\n",
       "      <td>130.0</td>\n",
       "      <td>126.95394220726662</td>\n",
       "      <td>37.55101229580099</td>\n",
       "    </tr>\n",
       "  </tbody>\n",
       "</table>\n",
       "</div>"
      ],
      "text/plain": [
       "     2019.02.14                  위도                  경도\n",
       "관할서                                                    \n",
       "금천        200.0  126.89674921449215   37.45725314643252\n",
       "남대문        50.0    126.973499492486    37.5549786547527\n",
       "동대문        60.0  127.04576239696928   37.58508176321097\n",
       "동작        500.0  126.94285899341229  37.513147550556226\n",
       "마포        130.0  126.95394220726662   37.55101229580099"
      ]
     },
     "execution_count": 37,
     "metadata": {},
     "output_type": "execute_result"
    }
   ],
   "source": [
    "revise2.columns = new_revise3\n",
    "revise2.head()"
   ]
  },
  {
   "cell_type": "code",
   "execution_count": 39,
   "metadata": {},
   "outputs": [
    {
     "data": {
      "text/html": [
       "<div>\n",
       "<style scoped>\n",
       "    .dataframe tbody tr th:only-of-type {\n",
       "        vertical-align: middle;\n",
       "    }\n",
       "\n",
       "    .dataframe tbody tr th {\n",
       "        vertical-align: top;\n",
       "    }\n",
       "\n",
       "    .dataframe thead th {\n",
       "        text-align: right;\n",
       "    }\n",
       "</style>\n",
       "<table border=\"1\" class=\"dataframe\">\n",
       "  <thead>\n",
       "    <tr style=\"text-align: right;\">\n",
       "      <th></th>\n",
       "      <th>2019.02.14</th>\n",
       "      <th>위도</th>\n",
       "      <th>경도</th>\n",
       "      <th>시위 인원수</th>\n",
       "    </tr>\n",
       "    <tr>\n",
       "      <th>관할서</th>\n",
       "      <th></th>\n",
       "      <th></th>\n",
       "      <th></th>\n",
       "      <th></th>\n",
       "    </tr>\n",
       "  </thead>\n",
       "  <tbody>\n",
       "    <tr>\n",
       "      <th>금천</th>\n",
       "      <td>200.0</td>\n",
       "      <td>126.89674921449215</td>\n",
       "      <td>37.45725314643252</td>\n",
       "      <td>200.0</td>\n",
       "    </tr>\n",
       "    <tr>\n",
       "      <th>남대문</th>\n",
       "      <td>50.0</td>\n",
       "      <td>126.973499492486</td>\n",
       "      <td>37.5549786547527</td>\n",
       "      <td>50.0</td>\n",
       "    </tr>\n",
       "    <tr>\n",
       "      <th>동대문</th>\n",
       "      <td>60.0</td>\n",
       "      <td>127.04576239696928</td>\n",
       "      <td>37.58508176321097</td>\n",
       "      <td>60.0</td>\n",
       "    </tr>\n",
       "    <tr>\n",
       "      <th>동작</th>\n",
       "      <td>500.0</td>\n",
       "      <td>126.94285899341229</td>\n",
       "      <td>37.513147550556226</td>\n",
       "      <td>500.0</td>\n",
       "    </tr>\n",
       "    <tr>\n",
       "      <th>마포</th>\n",
       "      <td>130.0</td>\n",
       "      <td>126.95394220726662</td>\n",
       "      <td>37.55101229580099</td>\n",
       "      <td>130.0</td>\n",
       "    </tr>\n",
       "  </tbody>\n",
       "</table>\n",
       "</div>"
      ],
      "text/plain": [
       "     2019.02.14                  위도                  경도  시위 인원수\n",
       "관할서                                                            \n",
       "금천        200.0  126.89674921449215   37.45725314643252   200.0\n",
       "남대문        50.0    126.973499492486    37.5549786547527    50.0\n",
       "동대문        60.0  127.04576239696928   37.58508176321097    60.0\n",
       "동작        500.0  126.94285899341229  37.513147550556226   500.0\n",
       "마포        130.0  126.95394220726662   37.55101229580099   130.0"
      ]
     },
     "execution_count": 39,
     "metadata": {},
     "output_type": "execute_result"
    }
   ],
   "source": [
    "revise2['시위 인원수'] = revise2['2019.02.14']\n",
    "revise2.head()"
   ]
  },
  {
   "cell_type": "code",
   "execution_count": 40,
   "metadata": {},
   "outputs": [],
   "source": [
    "revise3 = revise2\n",
    "del revise3['2019.02.14']"
   ]
  },
  {
   "cell_type": "code",
   "execution_count": 41,
   "metadata": {},
   "outputs": [
    {
     "data": {
      "text/html": [
       "<div>\n",
       "<style scoped>\n",
       "    .dataframe tbody tr th:only-of-type {\n",
       "        vertical-align: middle;\n",
       "    }\n",
       "\n",
       "    .dataframe tbody tr th {\n",
       "        vertical-align: top;\n",
       "    }\n",
       "\n",
       "    .dataframe thead th {\n",
       "        text-align: right;\n",
       "    }\n",
       "</style>\n",
       "<table border=\"1\" class=\"dataframe\">\n",
       "  <thead>\n",
       "    <tr style=\"text-align: right;\">\n",
       "      <th></th>\n",
       "      <th>위도</th>\n",
       "      <th>경도</th>\n",
       "      <th>시위 인원수</th>\n",
       "    </tr>\n",
       "    <tr>\n",
       "      <th>관할서</th>\n",
       "      <th></th>\n",
       "      <th></th>\n",
       "      <th></th>\n",
       "    </tr>\n",
       "  </thead>\n",
       "  <tbody>\n",
       "    <tr>\n",
       "      <th>금천</th>\n",
       "      <td>126.89674921449215</td>\n",
       "      <td>37.45725314643252</td>\n",
       "      <td>200.0</td>\n",
       "    </tr>\n",
       "    <tr>\n",
       "      <th>남대문</th>\n",
       "      <td>126.973499492486</td>\n",
       "      <td>37.5549786547527</td>\n",
       "      <td>50.0</td>\n",
       "    </tr>\n",
       "  </tbody>\n",
       "</table>\n",
       "</div>"
      ],
      "text/plain": [
       "                     위도                 경도  시위 인원수\n",
       "관할서                                               \n",
       "금천   126.89674921449215  37.45725314643252   200.0\n",
       "남대문    126.973499492486   37.5549786547527    50.0"
      ]
     },
     "execution_count": 41,
     "metadata": {},
     "output_type": "execute_result"
    }
   ],
   "source": [
    "revise3.head(2)"
   ]
  },
  {
   "cell_type": "code",
   "execution_count": 42,
   "metadata": {},
   "outputs": [
    {
     "data": {
      "text/plain": [
       "['금천구', '중구', '동대문구', '동작구', '마포구', '영등포구', '용산구', '종로구']"
      ]
     },
     "execution_count": 42,
     "metadata": {},
     "output_type": "execute_result"
    }
   ],
   "source": [
    "# address를 이용하면 자치구 => 자치구만 모아서 gus 리스트에 모아라\n",
    "gus = [ addr.split()[1] for addr in address]\n",
    "gus"
   ]
  },
  {
   "cell_type": "code",
   "execution_count": 43,
   "metadata": {},
   "outputs": [
    {
     "data": {
      "text/html": [
       "<div>\n",
       "<style scoped>\n",
       "    .dataframe tbody tr th:only-of-type {\n",
       "        vertical-align: middle;\n",
       "    }\n",
       "\n",
       "    .dataframe tbody tr th {\n",
       "        vertical-align: top;\n",
       "    }\n",
       "\n",
       "    .dataframe thead th {\n",
       "        text-align: right;\n",
       "    }\n",
       "</style>\n",
       "<table border=\"1\" class=\"dataframe\">\n",
       "  <thead>\n",
       "    <tr style=\"text-align: right;\">\n",
       "      <th></th>\n",
       "      <th>위도</th>\n",
       "      <th>경도</th>\n",
       "      <th>시위 인원수</th>\n",
       "      <th>구별</th>\n",
       "    </tr>\n",
       "    <tr>\n",
       "      <th>관할서</th>\n",
       "      <th></th>\n",
       "      <th></th>\n",
       "      <th></th>\n",
       "      <th></th>\n",
       "    </tr>\n",
       "  </thead>\n",
       "  <tbody>\n",
       "    <tr>\n",
       "      <th>금천</th>\n",
       "      <td>126.89674921449215</td>\n",
       "      <td>37.45725314643252</td>\n",
       "      <td>200.000000</td>\n",
       "      <td>금천구</td>\n",
       "    </tr>\n",
       "    <tr>\n",
       "      <th>남대문</th>\n",
       "      <td>126.973499492486</td>\n",
       "      <td>37.5549786547527</td>\n",
       "      <td>50.000000</td>\n",
       "      <td>중구</td>\n",
       "    </tr>\n",
       "    <tr>\n",
       "      <th>동대문</th>\n",
       "      <td>127.04576239696928</td>\n",
       "      <td>37.58508176321097</td>\n",
       "      <td>60.000000</td>\n",
       "      <td>동대문구</td>\n",
       "    </tr>\n",
       "    <tr>\n",
       "      <th>동작</th>\n",
       "      <td>126.94285899341229</td>\n",
       "      <td>37.513147550556226</td>\n",
       "      <td>500.000000</td>\n",
       "      <td>동작구</td>\n",
       "    </tr>\n",
       "    <tr>\n",
       "      <th>마포</th>\n",
       "      <td>126.95394220726662</td>\n",
       "      <td>37.55101229580099</td>\n",
       "      <td>130.000000</td>\n",
       "      <td>마포구</td>\n",
       "    </tr>\n",
       "    <tr>\n",
       "      <th>영등포</th>\n",
       "      <td>126.90094655076123</td>\n",
       "      <td>37.52585217071908</td>\n",
       "      <td>300.000000</td>\n",
       "      <td>영등포구</td>\n",
       "    </tr>\n",
       "    <tr>\n",
       "      <th>용산</th>\n",
       "      <td>126.967778896191</td>\n",
       "      <td>37.5411811395942</td>\n",
       "      <td>500.000000</td>\n",
       "      <td>용산구</td>\n",
       "    </tr>\n",
       "    <tr>\n",
       "      <th>종로</th>\n",
       "      <td>126.98489890358965</td>\n",
       "      <td>37.57554203072626</td>\n",
       "      <td>383.333333</td>\n",
       "      <td>종로구</td>\n",
       "    </tr>\n",
       "  </tbody>\n",
       "</table>\n",
       "</div>"
      ],
      "text/plain": [
       "                     위도                  경도      시위 인원수    구별\n",
       "관할서                                                          \n",
       "금천   126.89674921449215   37.45725314643252  200.000000   금천구\n",
       "남대문    126.973499492486    37.5549786547527   50.000000    중구\n",
       "동대문  127.04576239696928   37.58508176321097   60.000000  동대문구\n",
       "동작   126.94285899341229  37.513147550556226  500.000000   동작구\n",
       "마포   126.95394220726662   37.55101229580099  130.000000   마포구\n",
       "영등포  126.90094655076123   37.52585217071908  300.000000  영등포구\n",
       "용산     126.967778896191    37.5411811395942  500.000000   용산구\n",
       "종로   126.98489890358965   37.57554203072626  383.333333   종로구"
      ]
     },
     "execution_count": 43,
     "metadata": {},
     "output_type": "execute_result"
    }
   ],
   "source": [
    "revise3['구별'] = gus\n",
    "revise3"
   ]
  },
  {
   "cell_type": "code",
   "execution_count": 44,
   "metadata": {},
   "outputs": [
    {
     "data": {
      "text/html": [
       "<div>\n",
       "<style scoped>\n",
       "    .dataframe tbody tr th:only-of-type {\n",
       "        vertical-align: middle;\n",
       "    }\n",
       "\n",
       "    .dataframe tbody tr th {\n",
       "        vertical-align: top;\n",
       "    }\n",
       "\n",
       "    .dataframe thead th {\n",
       "        text-align: right;\n",
       "    }\n",
       "</style>\n",
       "<table border=\"1\" class=\"dataframe\">\n",
       "  <thead>\n",
       "    <tr style=\"text-align: right;\">\n",
       "      <th></th>\n",
       "      <th>위도</th>\n",
       "      <th>경도</th>\n",
       "      <th>시위 인원수</th>\n",
       "      <th>구별</th>\n",
       "      <th>주소</th>\n",
       "    </tr>\n",
       "    <tr>\n",
       "      <th>관할서</th>\n",
       "      <th></th>\n",
       "      <th></th>\n",
       "      <th></th>\n",
       "      <th></th>\n",
       "      <th></th>\n",
       "    </tr>\n",
       "  </thead>\n",
       "  <tbody>\n",
       "    <tr>\n",
       "      <th>금천</th>\n",
       "      <td>126.89674921449215</td>\n",
       "      <td>37.45725314643252</td>\n",
       "      <td>200.0</td>\n",
       "      <td>금천구</td>\n",
       "      <td>서울 금천구 시흥동 산 189</td>\n",
       "    </tr>\n",
       "    <tr>\n",
       "      <th>남대문</th>\n",
       "      <td>126.973499492486</td>\n",
       "      <td>37.5549786547527</td>\n",
       "      <td>50.0</td>\n",
       "      <td>중구</td>\n",
       "      <td>서울 중구 남대문로5가 561</td>\n",
       "    </tr>\n",
       "  </tbody>\n",
       "</table>\n",
       "</div>"
      ],
      "text/plain": [
       "                     위도                 경도  시위 인원수   구별                주소\n",
       "관할서                                                                      \n",
       "금천   126.89674921449215  37.45725314643252   200.0  금천구  서울 금천구 시흥동 산 189\n",
       "남대문    126.973499492486   37.5549786547527    50.0   중구  서울 중구 남대문로5가 561"
      ]
     },
     "execution_count": 44,
     "metadata": {},
     "output_type": "execute_result"
    }
   ],
   "source": [
    "# 주소 추가\n",
    "revise3['주소'] = address\n",
    "revise3['위도'] = lats\n",
    "revise3['경도'] = lngs\n",
    "revise3.head(2)"
   ]
  },
  {
   "cell_type": "code",
   "execution_count": 45,
   "metadata": {},
   "outputs": [
    {
     "data": {
      "text/plain": [
       "Index(['금천', '남대문', '동대문', '동작', '마포', '영등포', '용산', '종로'], dtype='object', name='관할서')"
      ]
     },
     "execution_count": 45,
     "metadata": {},
     "output_type": "execute_result"
    }
   ],
   "source": [
    "revise3.index"
   ]
  },
  {
   "cell_type": "code",
   "execution_count": 46,
   "metadata": {},
   "outputs": [
    {
     "data": {
      "text/html": [
       "<div>\n",
       "<style scoped>\n",
       "    .dataframe tbody tr th:only-of-type {\n",
       "        vertical-align: middle;\n",
       "    }\n",
       "\n",
       "    .dataframe tbody tr th {\n",
       "        vertical-align: top;\n",
       "    }\n",
       "\n",
       "    .dataframe thead th {\n",
       "        text-align: right;\n",
       "    }\n",
       "</style>\n",
       "<table border=\"1\" class=\"dataframe\">\n",
       "  <thead>\n",
       "    <tr style=\"text-align: right;\">\n",
       "      <th></th>\n",
       "      <th>시위 인원수</th>\n",
       "    </tr>\n",
       "    <tr>\n",
       "      <th>구별</th>\n",
       "      <th></th>\n",
       "    </tr>\n",
       "  </thead>\n",
       "  <tbody>\n",
       "    <tr>\n",
       "      <th>금천구</th>\n",
       "      <td>200.0</td>\n",
       "    </tr>\n",
       "    <tr>\n",
       "      <th>동대문구</th>\n",
       "      <td>60.0</td>\n",
       "    </tr>\n",
       "  </tbody>\n",
       "</table>\n",
       "</div>"
      ],
      "text/plain": [
       "      시위 인원수\n",
       "구별          \n",
       "금천구    200.0\n",
       "동대문구    60.0"
      ]
     },
     "execution_count": 46,
     "metadata": {},
     "output_type": "execute_result"
    }
   ],
   "source": [
    "revise4 = pd.pivot_table(revise3, index='구별', aggfunc=np.sum)\n",
    "revise4.head(2)"
   ]
  },
  {
   "cell_type": "code",
   "execution_count": 47,
   "metadata": {},
   "outputs": [
    {
     "data": {
      "text/html": [
       "<div>\n",
       "<style scoped>\n",
       "    .dataframe tbody tr th:only-of-type {\n",
       "        vertical-align: middle;\n",
       "    }\n",
       "\n",
       "    .dataframe tbody tr th {\n",
       "        vertical-align: top;\n",
       "    }\n",
       "\n",
       "    .dataframe thead th {\n",
       "        text-align: right;\n",
       "    }\n",
       "</style>\n",
       "<table border=\"1\" class=\"dataframe\">\n",
       "  <thead>\n",
       "    <tr style=\"text-align: right;\">\n",
       "      <th></th>\n",
       "      <th>시위 인원수</th>\n",
       "      <th>주간 평균 시위 인원수</th>\n",
       "      <th>주소</th>\n",
       "      <th>위도</th>\n",
       "      <th>경도</th>\n",
       "    </tr>\n",
       "    <tr>\n",
       "      <th>구별</th>\n",
       "      <th></th>\n",
       "      <th></th>\n",
       "      <th></th>\n",
       "      <th></th>\n",
       "      <th></th>\n",
       "    </tr>\n",
       "  </thead>\n",
       "  <tbody>\n",
       "    <tr>\n",
       "      <th>금천구</th>\n",
       "      <td>200.0</td>\n",
       "      <td>28.571429</td>\n",
       "      <td>NaN</td>\n",
       "      <td>NaN</td>\n",
       "      <td>NaN</td>\n",
       "    </tr>\n",
       "    <tr>\n",
       "      <th>동대문구</th>\n",
       "      <td>60.0</td>\n",
       "      <td>8.571429</td>\n",
       "      <td>NaN</td>\n",
       "      <td>NaN</td>\n",
       "      <td>NaN</td>\n",
       "    </tr>\n",
       "    <tr>\n",
       "      <th>동작구</th>\n",
       "      <td>500.0</td>\n",
       "      <td>71.428571</td>\n",
       "      <td>NaN</td>\n",
       "      <td>NaN</td>\n",
       "      <td>NaN</td>\n",
       "    </tr>\n",
       "    <tr>\n",
       "      <th>마포구</th>\n",
       "      <td>130.0</td>\n",
       "      <td>18.571429</td>\n",
       "      <td>NaN</td>\n",
       "      <td>NaN</td>\n",
       "      <td>NaN</td>\n",
       "    </tr>\n",
       "    <tr>\n",
       "      <th>영등포구</th>\n",
       "      <td>300.0</td>\n",
       "      <td>42.857143</td>\n",
       "      <td>NaN</td>\n",
       "      <td>NaN</td>\n",
       "      <td>NaN</td>\n",
       "    </tr>\n",
       "  </tbody>\n",
       "</table>\n",
       "</div>"
      ],
      "text/plain": [
       "      시위 인원수  주간 평균 시위 인원수   주소   위도   경도\n",
       "구별                                       \n",
       "금천구    200.0     28.571429  NaN  NaN  NaN\n",
       "동대문구    60.0      8.571429  NaN  NaN  NaN\n",
       "동작구    500.0     71.428571  NaN  NaN  NaN\n",
       "마포구    130.0     18.571429  NaN  NaN  NaN\n",
       "영등포구   300.0     42.857143  NaN  NaN  NaN"
      ]
     },
     "execution_count": 47,
     "metadata": {},
     "output_type": "execute_result"
    }
   ],
   "source": [
    "revise4['주간 평균 시위 인원수'] = revise4['시위 인원수']/7\n",
    "revise4['주소'] = revise3['주소']\n",
    "revise4['위도'] = revise3['위도']\n",
    "revise4['경도'] = revise3['경도']\n",
    "revise4.head()"
   ]
  },
  {
   "cell_type": "code",
   "execution_count": null,
   "metadata": {},
   "outputs": [],
   "source": []
  },
  {
   "cell_type": "code",
   "execution_count": null,
   "metadata": {},
   "outputs": [],
   "source": []
  },
  {
   "cell_type": "code",
   "execution_count": null,
   "metadata": {},
   "outputs": [],
   "source": []
  },
  {
   "cell_type": "code",
   "execution_count": null,
   "metadata": {},
   "outputs": [],
   "source": []
  },
  {
   "cell_type": "code",
   "execution_count": 48,
   "metadata": {},
   "outputs": [
    {
     "data": {
      "text/plain": [
       "{'type': 'FeatureCollection',\n",
       " 'features': [{'type': 'Feature',\n",
       "   'id': '강동구',\n",
       "   'properties': {'code': '11250',\n",
       "    'name': '강동구',\n",
       "    'name_eng': 'Gangdong-gu',\n",
       "    'base_year': '2013'},\n",
       "   'geometry': {'type': 'Polygon',\n",
       "    'coordinates': [[[127.11519584981606, 37.557533180704915],\n",
       "      [127.16683184366129, 37.57672487388627],\n",
       "      [127.18408792330152, 37.55814280369575],\n",
       "      [127.16530984307447, 37.54221851258693],\n",
       "      [127.14672806823502, 37.51415680680291],\n",
       "      [127.12123165719615, 37.52528270089],\n",
       "      [127.1116764203608, 37.540669955324965],\n",
       "      [127.11519584981606, 37.557533180704915]]]}},\n",
       "  {'type': 'Feature',\n",
       "   'id': '송파구',\n",
       "   'properties': {'code': '11240',\n",
       "    'name': '송파구',\n",
       "    'name_eng': 'Songpa-gu',\n",
       "    'base_year': '2013'},\n",
       "   'geometry': {'type': 'Polygon',\n",
       "    'coordinates': [[[127.0690698130372, 37.522279423505026],\n",
       "      [127.10087519791962, 37.524841220167055],\n",
       "      [127.1116764203608, 37.540669955324965],\n",
       "      [127.12123165719615, 37.52528270089],\n",
       "      [127.14672806823502, 37.51415680680291],\n",
       "      [127.1634944215765, 37.497445406097484],\n",
       "      [127.14206058413274, 37.47089819098501],\n",
       "      [127.12440571080893, 37.46240445587048],\n",
       "      [127.11117085201238, 37.485708381512445],\n",
       "      [127.0719146000724, 37.50224013587669],\n",
       "      [127.0690698130372, 37.522279423505026]]]}},\n",
       "  {'type': 'Feature',\n",
       "   'id': '강남구',\n",
       "   'properties': {'code': '11230',\n",
       "    'name': '강남구',\n",
       "    'name_eng': 'Gangnam-gu',\n",
       "    'base_year': '2013'},\n",
       "   'geometry': {'type': 'Polygon',\n",
       "    'coordinates': [[[127.05867359288398, 37.52629974922568],\n",
       "      [127.0690698130372, 37.522279423505026],\n",
       "      [127.0719146000724, 37.50224013587669],\n",
       "      [127.11117085201238, 37.485708381512445],\n",
       "      [127.12440571080893, 37.46240445587048],\n",
       "      [127.09842759318751, 37.45862253857461],\n",
       "      [127.08640440578156, 37.472697935184655],\n",
       "      [127.0559170481904, 37.4659228914077],\n",
       "      [127.03621915098798, 37.48175802427603],\n",
       "      [127.01397119667513, 37.52503988289669],\n",
       "      [127.02302831890559, 37.53231899582663],\n",
       "      [127.05867359288398, 37.52629974922568]]]}},\n",
       "  {'type': 'Feature',\n",
       "   'id': '서초구',\n",
       "   'properties': {'code': '11220',\n",
       "    'name': '서초구',\n",
       "    'name_eng': 'Seocho-gu',\n",
       "    'base_year': '2013'},\n",
       "   'geometry': {'type': 'Polygon',\n",
       "    'coordinates': [[[127.01397119667513, 37.52503988289669],\n",
       "      [127.03621915098798, 37.48175802427603],\n",
       "      [127.0559170481904, 37.4659228914077],\n",
       "      [127.08640440578156, 37.472697935184655],\n",
       "      [127.09842759318751, 37.45862253857461],\n",
       "      [127.09046928565951, 37.44296826114185],\n",
       "      [127.06778107605433, 37.426197424057314],\n",
       "      [127.04957232987142, 37.42805836845694],\n",
       "      [127.03881782597922, 37.45382039851715],\n",
       "      [126.99072073195462, 37.455326143310025],\n",
       "      [126.98367668291802, 37.473856492692086],\n",
       "      [126.98223807916081, 37.509314966770326],\n",
       "      [127.01397119667513, 37.52503988289669]]]}},\n",
       "  {'type': 'Feature',\n",
       "   'id': '관악구',\n",
       "   'properties': {'code': '11210',\n",
       "    'name': '관악구',\n",
       "    'name_eng': 'Gwanak-gu',\n",
       "    'base_year': '2013'},\n",
       "   'geometry': {'type': 'Polygon',\n",
       "    'coordinates': [[[126.98367668291802, 37.473856492692086],\n",
       "      [126.99072073195462, 37.455326143310025],\n",
       "      [126.96520439085143, 37.438249784006246],\n",
       "      [126.95000001010182, 37.43613451165719],\n",
       "      [126.93084408056525, 37.447382928333994],\n",
       "      [126.9167728146601, 37.45490566423789],\n",
       "      [126.90156094129895, 37.47753842789901],\n",
       "      [126.90531975801812, 37.48218087575429],\n",
       "      [126.94922661389508, 37.49125437495649],\n",
       "      [126.9725891850662, 37.472561363278125],\n",
       "      [126.98367668291802, 37.473856492692086]]]}},\n",
       "  {'type': 'Feature',\n",
       "   'id': '동작구',\n",
       "   'properties': {'code': '11200',\n",
       "    'name': '동작구',\n",
       "    'name_eng': 'Dongjak-gu',\n",
       "    'base_year': '2013'},\n",
       "   'geometry': {'type': 'Polygon',\n",
       "    'coordinates': [[[126.98223807916081, 37.509314966770326],\n",
       "      [126.98367668291802, 37.473856492692086],\n",
       "      [126.9725891850662, 37.472561363278125],\n",
       "      [126.94922661389508, 37.49125437495649],\n",
       "      [126.90531975801812, 37.48218087575429],\n",
       "      [126.92177893174825, 37.494889877415176],\n",
       "      [126.92810628828279, 37.51329595732015],\n",
       "      [126.95249990298159, 37.51722500741813],\n",
       "      [126.98223807916081, 37.509314966770326]]]}},\n",
       "  {'type': 'Feature',\n",
       "   'id': '영등포구',\n",
       "   'properties': {'code': '11190',\n",
       "    'name': '영등포구',\n",
       "    'name_eng': 'Yeongdeungpo-gu',\n",
       "    'base_year': '2013'},\n",
       "   'geometry': {'type': 'Polygon',\n",
       "    'coordinates': [[[126.89184663862764, 37.547373974997114],\n",
       "      [126.94566733083212, 37.526617542453366],\n",
       "      [126.95249990298159, 37.51722500741813],\n",
       "      [126.92810628828279, 37.51329595732015],\n",
       "      [126.92177893174825, 37.494889877415176],\n",
       "      [126.90531975801812, 37.48218087575429],\n",
       "      [126.89594776782485, 37.504675281309176],\n",
       "      [126.88156402353862, 37.513970034765684],\n",
       "      [126.88825757860099, 37.54079733630232],\n",
       "      [126.89184663862764, 37.547373974997114]]]}},\n",
       "  {'type': 'Feature',\n",
       "   'id': '금천구',\n",
       "   'properties': {'code': '11180',\n",
       "    'name': '금천구',\n",
       "    'name_eng': 'Geumcheon-gu',\n",
       "    'base_year': '2013'},\n",
       "   'geometry': {'type': 'Polygon',\n",
       "    'coordinates': [[[126.90156094129895, 37.47753842789901],\n",
       "      [126.9167728146601, 37.45490566423789],\n",
       "      [126.93084408056525, 37.447382928333994],\n",
       "      [126.9025831711697, 37.434549366349124],\n",
       "      [126.87683271502428, 37.482576591607305],\n",
       "      [126.90156094129895, 37.47753842789901]]]}},\n",
       "  {'type': 'Feature',\n",
       "   'id': '구로구',\n",
       "   'properties': {'code': '11170',\n",
       "    'name': '구로구',\n",
       "    'name_eng': 'Guro-gu',\n",
       "    'base_year': '2013'},\n",
       "   'geometry': {'type': 'Polygon',\n",
       "    'coordinates': [[[126.82688081517314, 37.50548972232896],\n",
       "      [126.88156402353862, 37.513970034765684],\n",
       "      [126.89594776782485, 37.504675281309176],\n",
       "      [126.90531975801812, 37.48218087575429],\n",
       "      [126.90156094129895, 37.47753842789901],\n",
       "      [126.87683271502428, 37.482576591607305],\n",
       "      [126.84762676054953, 37.47146723936323],\n",
       "      [126.83549485076196, 37.474098236975095],\n",
       "      [126.82264796791348, 37.4878476492147],\n",
       "      [126.82504736331406, 37.50302612640443],\n",
       "      [126.82688081517314, 37.50548972232896]]]}},\n",
       "  {'type': 'Feature',\n",
       "   'id': '강서구',\n",
       "   'properties': {'code': '11160',\n",
       "    'name': '강서구',\n",
       "    'name_eng': 'Gangseo-gu',\n",
       "    'base_year': '2013'},\n",
       "   'geometry': {'type': 'Polygon',\n",
       "    'coordinates': [[[126.79575768552907, 37.57881087633202],\n",
       "      [126.80702115023597, 37.60123001013228],\n",
       "      [126.82251438477105, 37.5880430810082],\n",
       "      [126.85984199399667, 37.571847855292745],\n",
       "      [126.89184663862764, 37.547373974997114],\n",
       "      [126.88825757860099, 37.54079733630232],\n",
       "      [126.86637464321238, 37.54859191094823],\n",
       "      [126.86610073476395, 37.52699964144669],\n",
       "      [126.84257291943153, 37.52373707805596],\n",
       "      [126.8242331426722, 37.53788078753248],\n",
       "      [126.77324417717703, 37.5459123450554],\n",
       "      [126.76979180579352, 37.55139183008809],\n",
       "      [126.79575768552907, 37.57881087633202]]]}},\n",
       "  {'type': 'Feature',\n",
       "   'id': '양천구',\n",
       "   'properties': {'code': '11150',\n",
       "    'name': '양천구',\n",
       "    'name_eng': 'Yangcheon-gu',\n",
       "    'base_year': '2013'},\n",
       "   'geometry': {'type': 'Polygon',\n",
       "    'coordinates': [[[126.8242331426722, 37.53788078753248],\n",
       "      [126.84257291943153, 37.52373707805596],\n",
       "      [126.86610073476395, 37.52699964144669],\n",
       "      [126.86637464321238, 37.54859191094823],\n",
       "      [126.88825757860099, 37.54079733630232],\n",
       "      [126.88156402353862, 37.513970034765684],\n",
       "      [126.82688081517314, 37.50548972232896],\n",
       "      [126.8242331426722, 37.53788078753248]]]}},\n",
       "  {'type': 'Feature',\n",
       "   'id': '마포구',\n",
       "   'properties': {'code': '11140',\n",
       "    'name': '마포구',\n",
       "    'name_eng': 'Mapo-gu',\n",
       "    'base_year': '2013'},\n",
       "   'geometry': {'type': 'Polygon',\n",
       "    'coordinates': [[[126.90522065831053, 37.57409700522574],\n",
       "      [126.93898161798973, 37.552310003728124],\n",
       "      [126.96358226710812, 37.55605635475154],\n",
       "      [126.96448570553055, 37.548705692021635],\n",
       "      [126.94566733083212, 37.526617542453366],\n",
       "      [126.89184663862764, 37.547373974997114],\n",
       "      [126.85984199399667, 37.571847855292745],\n",
       "      [126.88433284773288, 37.588143322880526],\n",
       "      [126.90522065831053, 37.57409700522574]]]}},\n",
       "  {'type': 'Feature',\n",
       "   'id': '서대문구',\n",
       "   'properties': {'code': '11130',\n",
       "    'name': '서대문구',\n",
       "    'name_eng': 'Seodaemun-gu',\n",
       "    'base_year': '2013'},\n",
       "   'geometry': {'type': 'Polygon',\n",
       "    'coordinates': [[[126.9524752030572, 37.60508692737045],\n",
       "      [126.95565425846463, 37.576080790881456],\n",
       "      [126.96873633279075, 37.56313604690827],\n",
       "      [126.96358226710812, 37.55605635475154],\n",
       "      [126.93898161798973, 37.552310003728124],\n",
       "      [126.90522065831053, 37.57409700522574],\n",
       "      [126.9524752030572, 37.60508692737045]]]}},\n",
       "  {'type': 'Feature',\n",
       "   'id': '은평구',\n",
       "   'properties': {'code': '11120',\n",
       "    'name': '은평구',\n",
       "    'name_eng': 'Eunpyeong-gu',\n",
       "    'base_year': '2013'},\n",
       "   'geometry': {'type': 'Polygon',\n",
       "    'coordinates': [[[126.9738864128702, 37.62949634786888],\n",
       "      [126.95427017006129, 37.622033431339425],\n",
       "      [126.9524752030572, 37.60508692737045],\n",
       "      [126.90522065831053, 37.57409700522574],\n",
       "      [126.88433284773288, 37.588143322880526],\n",
       "      [126.90396681003595, 37.59227403419942],\n",
       "      [126.90303066177668, 37.609977911401344],\n",
       "      [126.91455481429648, 37.64150050996935],\n",
       "      [126.956473797387, 37.652480737339445],\n",
       "      [126.9738864128702, 37.62949634786888]]]}},\n",
       "  {'type': 'Feature',\n",
       "   'id': '노원구',\n",
       "   'properties': {'code': '11110',\n",
       "    'name': '노원구',\n",
       "    'name_eng': 'Nowon-gu',\n",
       "    'base_year': '2013'},\n",
       "   'geometry': {'type': 'Polygon',\n",
       "    'coordinates': [[[127.0838752703195, 37.69359534202034],\n",
       "      [127.09706391309695, 37.686383719372294],\n",
       "      [127.09440766298717, 37.64713490473045],\n",
       "      [127.11326795855199, 37.639622905315925],\n",
       "      [127.10782277688129, 37.61804244241069],\n",
       "      [127.07351243825278, 37.61283660342313],\n",
       "      [127.05209373568619, 37.62164065487782],\n",
       "      [127.04358800895609, 37.62848931298715],\n",
       "      [127.05800075220091, 37.64318263878276],\n",
       "      [127.05288479710485, 37.68423857084347],\n",
       "      [127.0838752703195, 37.69359534202034]]]}},\n",
       "  {'type': 'Feature',\n",
       "   'id': '도봉구',\n",
       "   'properties': {'code': '11100',\n",
       "    'name': '도봉구',\n",
       "    'name_eng': 'Dobong-gu',\n",
       "    'base_year': '2013'},\n",
       "   'geometry': {'type': 'Polygon',\n",
       "    'coordinates': [[[127.05288479710485, 37.68423857084347],\n",
       "      [127.05800075220091, 37.64318263878276],\n",
       "      [127.04358800895609, 37.62848931298715],\n",
       "      [127.01465935892466, 37.64943687496812],\n",
       "      [127.02062116141389, 37.667173575971205],\n",
       "      [127.01039666042071, 37.681894589603594],\n",
       "      [127.01795099203432, 37.69824412775662],\n",
       "      [127.05288479710485, 37.68423857084347]]]}},\n",
       "  {'type': 'Feature',\n",
       "   'id': '강북구',\n",
       "   'properties': {'code': '11090',\n",
       "    'name': '강북구',\n",
       "    'name_eng': 'Gangbuk-gu',\n",
       "    'base_year': '2013'},\n",
       "   'geometry': {'type': 'Polygon',\n",
       "    'coordinates': [[[126.99383903424, 37.676681761199085],\n",
       "      [127.01039666042071, 37.681894589603594],\n",
       "      [127.02062116141389, 37.667173575971205],\n",
       "      [127.01465935892466, 37.64943687496812],\n",
       "      [127.04358800895609, 37.62848931298715],\n",
       "      [127.05209373568619, 37.62164065487782],\n",
       "      [127.03892400992301, 37.609715611023816],\n",
       "      [127.0128154749523, 37.613652243470256],\n",
       "      [126.98672705513869, 37.63377641288196],\n",
       "      [126.9817452676551, 37.65209769387776],\n",
       "      [126.99383903424, 37.676681761199085]]]}},\n",
       "  {'type': 'Feature',\n",
       "   'id': '성북구',\n",
       "   'properties': {'code': '11080',\n",
       "    'name': '성북구',\n",
       "    'name_eng': 'Seongbuk-gu',\n",
       "    'base_year': '2013'},\n",
       "   'geometry': {'type': 'Polygon',\n",
       "    'coordinates': [[[126.977175406416, 37.62859715400388],\n",
       "      [126.98672705513869, 37.63377641288196],\n",
       "      [127.0128154749523, 37.613652243470256],\n",
       "      [127.03892400992301, 37.609715611023816],\n",
       "      [127.05209373568619, 37.62164065487782],\n",
       "      [127.07351243825278, 37.61283660342313],\n",
       "      [127.07382707099227, 37.60401928986419],\n",
       "      [127.042705222094, 37.59239437593391],\n",
       "      [127.02527254528003, 37.57524616245249],\n",
       "      [126.99348293358314, 37.588565457216156],\n",
       "      [126.98879865992384, 37.6118927319756],\n",
       "      [126.977175406416, 37.62859715400388]]]}},\n",
       "  {'type': 'Feature',\n",
       "   'id': '중랑구',\n",
       "   'properties': {'code': '11070',\n",
       "    'name': '중랑구',\n",
       "    'name_eng': 'Jungnang-gu',\n",
       "    'base_year': '2013'},\n",
       "   'geometry': {'type': 'Polygon',\n",
       "    'coordinates': [[[127.07351243825278, 37.61283660342313],\n",
       "      [127.10782277688129, 37.61804244241069],\n",
       "      [127.1201246020114, 37.60178457598188],\n",
       "      [127.10304174249214, 37.57076342290955],\n",
       "      [127.08068541280403, 37.56906425519017],\n",
       "      [127.07382707099227, 37.60401928986419],\n",
       "      [127.07351243825278, 37.61283660342313]]]}},\n",
       "  {'type': 'Feature',\n",
       "   'id': '동대문구',\n",
       "   'properties': {'code': '11060',\n",
       "    'name': '동대문구',\n",
       "    'name_eng': 'Dongdaemun-gu',\n",
       "    'base_year': '2013'},\n",
       "   'geometry': {'type': 'Polygon',\n",
       "    'coordinates': [[[127.02527254528003, 37.57524616245249],\n",
       "      [127.042705222094, 37.59239437593391],\n",
       "      [127.07382707099227, 37.60401928986419],\n",
       "      [127.08068541280403, 37.56906425519017],\n",
       "      [127.07421053024362, 37.55724769712085],\n",
       "      [127.05005601081567, 37.567577612590846],\n",
       "      [127.02547266349976, 37.568943552237734],\n",
       "      [127.02527254528003, 37.57524616245249]]]}},\n",
       "  {'type': 'Feature',\n",
       "   'id': '광진구',\n",
       "   'properties': {'code': '11050',\n",
       "    'name': '광진구',\n",
       "    'name_eng': 'Gwangjin-gu',\n",
       "    'base_year': '2013'},\n",
       "   'geometry': {'type': 'Polygon',\n",
       "    'coordinates': [[[127.08068541280403, 37.56906425519017],\n",
       "      [127.10304174249214, 37.57076342290955],\n",
       "      [127.11519584981606, 37.557533180704915],\n",
       "      [127.1116764203608, 37.540669955324965],\n",
       "      [127.10087519791962, 37.524841220167055],\n",
       "      [127.0690698130372, 37.522279423505026],\n",
       "      [127.05867359288398, 37.52629974922568],\n",
       "      [127.07421053024362, 37.55724769712085],\n",
       "      [127.08068541280403, 37.56906425519017]]]}},\n",
       "  {'type': 'Feature',\n",
       "   'id': '성동구',\n",
       "   'properties': {'code': '11040',\n",
       "    'name': '성동구',\n",
       "    'name_eng': 'Seongdong-gu',\n",
       "    'base_year': '2013'},\n",
       "   'geometry': {'type': 'Polygon',\n",
       "    'coordinates': [[[127.02547266349976, 37.568943552237734],\n",
       "      [127.05005601081567, 37.567577612590846],\n",
       "      [127.07421053024362, 37.55724769712085],\n",
       "      [127.05867359288398, 37.52629974922568],\n",
       "      [127.02302831890559, 37.53231899582663],\n",
       "      [127.01070894177482, 37.54118048964762],\n",
       "      [127.02547266349976, 37.568943552237734]]]}},\n",
       "  {'type': 'Feature',\n",
       "   'id': '용산구',\n",
       "   'properties': {'code': '11030',\n",
       "    'name': '용산구',\n",
       "    'name_eng': 'Yongsan-gu',\n",
       "    'base_year': '2013'},\n",
       "   'geometry': {'type': 'Polygon',\n",
       "    'coordinates': [[[127.01070894177482, 37.54118048964762],\n",
       "      [127.02302831890559, 37.53231899582663],\n",
       "      [127.01397119667513, 37.52503988289669],\n",
       "      [126.98223807916081, 37.509314966770326],\n",
       "      [126.95249990298159, 37.51722500741813],\n",
       "      [126.94566733083212, 37.526617542453366],\n",
       "      [126.96448570553055, 37.548705692021635],\n",
       "      [126.98752996903328, 37.55094818807139],\n",
       "      [127.01070894177482, 37.54118048964762]]]}},\n",
       "  {'type': 'Feature',\n",
       "   'id': '중구',\n",
       "   'properties': {'code': '11020',\n",
       "    'name': '중구',\n",
       "    'name_eng': 'Jung-gu',\n",
       "    'base_year': '2013'},\n",
       "   'geometry': {'type': 'Polygon',\n",
       "    'coordinates': [[[127.02547266349976, 37.568943552237734],\n",
       "      [127.01070894177482, 37.54118048964762],\n",
       "      [126.98752996903328, 37.55094818807139],\n",
       "      [126.96448570553055, 37.548705692021635],\n",
       "      [126.96358226710812, 37.55605635475154],\n",
       "      [126.96873633279075, 37.56313604690827],\n",
       "      [127.02547266349976, 37.568943552237734]]]}},\n",
       "  {'type': 'Feature',\n",
       "   'id': '종로구',\n",
       "   'properties': {'code': '11010',\n",
       "    'name': '종로구',\n",
       "    'name_eng': 'Jongno-gu',\n",
       "    'base_year': '2013'},\n",
       "   'geometry': {'type': 'Polygon',\n",
       "    'coordinates': [[[126.9738864128702, 37.62949634786888],\n",
       "      [126.977175406416, 37.62859715400388],\n",
       "      [126.98879865992384, 37.6118927319756],\n",
       "      [126.99348293358314, 37.588565457216156],\n",
       "      [127.02527254528003, 37.57524616245249],\n",
       "      [127.02547266349976, 37.568943552237734],\n",
       "      [126.96873633279075, 37.56313604690827],\n",
       "      [126.95565425846463, 37.576080790881456],\n",
       "      [126.9524752030572, 37.60508692737045],\n",
       "      [126.95427017006129, 37.622033431339425],\n",
       "      [126.9738864128702, 37.62949634786888]]]}}]}"
      ]
     },
     "execution_count": 48,
     "metadata": {},
     "output_type": "execute_result"
    }
   ],
   "source": [
    "import json\n",
    "geo_path = './data/skorea_municipalities_geo_simple.json'\n",
    "geo_str = json.load(open(geo_path, encoding='utf-8'))\n",
    "geo_str"
   ]
  },
  {
   "cell_type": "code",
   "execution_count": 49,
   "metadata": {},
   "outputs": [],
   "source": [
    "import folium"
   ]
  },
  {
   "cell_type": "code",
   "execution_count": 50,
   "metadata": {},
   "outputs": [
    {
     "data": {
      "text/html": [
       "<div>\n",
       "<style scoped>\n",
       "    .dataframe tbody tr th:only-of-type {\n",
       "        vertical-align: middle;\n",
       "    }\n",
       "\n",
       "    .dataframe tbody tr th {\n",
       "        vertical-align: top;\n",
       "    }\n",
       "\n",
       "    .dataframe thead th {\n",
       "        text-align: right;\n",
       "    }\n",
       "</style>\n",
       "<table border=\"1\" class=\"dataframe\">\n",
       "  <thead>\n",
       "    <tr style=\"text-align: right;\">\n",
       "      <th></th>\n",
       "      <th>위도</th>\n",
       "      <th>경도</th>\n",
       "      <th>시위 인원수</th>\n",
       "      <th>구별</th>\n",
       "      <th>주소</th>\n",
       "    </tr>\n",
       "    <tr>\n",
       "      <th>관할서</th>\n",
       "      <th></th>\n",
       "      <th></th>\n",
       "      <th></th>\n",
       "      <th></th>\n",
       "      <th></th>\n",
       "    </tr>\n",
       "  </thead>\n",
       "  <tbody>\n",
       "    <tr>\n",
       "      <th>금천</th>\n",
       "      <td>126.89674921449215</td>\n",
       "      <td>37.45725314643252</td>\n",
       "      <td>200.0</td>\n",
       "      <td>금천구</td>\n",
       "      <td>서울 금천구 시흥동 산 189</td>\n",
       "    </tr>\n",
       "    <tr>\n",
       "      <th>남대문</th>\n",
       "      <td>126.973499492486</td>\n",
       "      <td>37.5549786547527</td>\n",
       "      <td>50.0</td>\n",
       "      <td>중구</td>\n",
       "      <td>서울 중구 남대문로5가 561</td>\n",
       "    </tr>\n",
       "    <tr>\n",
       "      <th>동대문</th>\n",
       "      <td>127.04576239696928</td>\n",
       "      <td>37.58508176321097</td>\n",
       "      <td>60.0</td>\n",
       "      <td>동대문구</td>\n",
       "      <td>서울 동대문구 청량리동 229</td>\n",
       "    </tr>\n",
       "    <tr>\n",
       "      <th>동작</th>\n",
       "      <td>126.94285899341229</td>\n",
       "      <td>37.513147550556226</td>\n",
       "      <td>500.0</td>\n",
       "      <td>동작구</td>\n",
       "      <td>서울 동작구 노량진동 72-35</td>\n",
       "    </tr>\n",
       "    <tr>\n",
       "      <th>마포</th>\n",
       "      <td>126.95394220726662</td>\n",
       "      <td>37.55101229580099</td>\n",
       "      <td>130.0</td>\n",
       "      <td>마포구</td>\n",
       "      <td>서울 마포구 아현동 618-1</td>\n",
       "    </tr>\n",
       "  </tbody>\n",
       "</table>\n",
       "</div>"
      ],
      "text/plain": [
       "                     위도                  경도  시위 인원수    구별                 주소\n",
       "관할서                                                                         \n",
       "금천   126.89674921449215   37.45725314643252   200.0   금천구   서울 금천구 시흥동 산 189\n",
       "남대문    126.973499492486    37.5549786547527    50.0    중구   서울 중구 남대문로5가 561\n",
       "동대문  127.04576239696928   37.58508176321097    60.0  동대문구   서울 동대문구 청량리동 229\n",
       "동작   126.94285899341229  37.513147550556226   500.0   동작구  서울 동작구 노량진동 72-35\n",
       "마포   126.95394220726662   37.55101229580099   130.0   마포구   서울 마포구 아현동 618-1"
      ]
     },
     "execution_count": 50,
     "metadata": {},
     "output_type": "execute_result"
    }
   ],
   "source": [
    "revise3.head()"
   ]
  },
  {
   "cell_type": "code",
   "execution_count": 51,
   "metadata": {},
   "outputs": [
    {
     "name": "stderr",
     "output_type": "stream",
     "text": [
      "C:\\ProgramData\\Anaconda3\\lib\\site-packages\\folium\\folium.py:432: FutureWarning: The choropleth  method has been deprecated. Instead use the new Choropleth class, which has the same arguments. See the example notebook 'GeoJSON_and_choropleth' for how to do this.\n",
      "  FutureWarning\n"
     ]
    },
    {
     "data": {
      "text/html": [
       "<div style=\"width:100%;\"><div style=\"position:relative;width:100%;height:0;padding-bottom:60%;\"><iframe src=\"data:text/html;charset=utf-8;base64,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\" style=\"position:absolute;width:100%;height:100%;left:0;top:0;border:none !important;\" allowfullscreen webkitallowfullscreen mozallowfullscreen></iframe></div></div>"
      ],
      "text/plain": [
       "<folium.folium.Map at 0xbbfeba8>"
      ]
     },
     "execution_count": 51,
     "metadata": {},
     "output_type": "execute_result"
    }
   ],
   "source": [
    "map_seoul = folium.Map(location=[37.571974, 126.9867302], zoom_start=10) \n",
    "# 행정구역 그리기\n",
    "map_seoul.choropleth(geo_data = geo_str, # 행정구역\n",
    "                     data = revise4['주간 평균 시위 인원수'],    \n",
    "                     columns = [revise4.index, revise4['주간 평균 시위 인원수']],\n",
    "                     key_on = 'feature.id', # 행정구역 지도정보 id와 데이터의 state가 일치\n",
    "                     fill_color = 'PuRd',\n",
    "                     legend_name = '서울시 시위 규모')\n",
    "map_seoul"
   ]
  },
  {
   "cell_type": "code",
   "execution_count": 52,
   "metadata": {},
   "outputs": [
    {
     "name": "stdout",
     "output_type": "stream",
     "text": [
      "Malgun Gothic\n"
     ]
    }
   ],
   "source": [
    "# 시각화 패키지\n",
    "import matplotlib.pyplot as plt\n",
    "import seaborn as sns\n",
    "\n",
    "# 주피터에 빌트인\n",
    "%matplotlib inline\n",
    "\n",
    "# 한글화\n",
    "from Common import visualKoSetting as vks\n",
    "vks()"
   ]
  },
  {
   "cell_type": "code",
   "execution_count": 53,
   "metadata": {},
   "outputs": [],
   "source": [
    "# 저장\n",
    "revise3.to_csv('./data/revise.csv', sep=',', encoding='euc-kr')"
   ]
  },
  {
   "cell_type": "code",
   "execution_count": 54,
   "metadata": {},
   "outputs": [
    {
     "data": {
      "text/html": [
       "<div>\n",
       "<style scoped>\n",
       "    .dataframe tbody tr th:only-of-type {\n",
       "        vertical-align: middle;\n",
       "    }\n",
       "\n",
       "    .dataframe tbody tr th {\n",
       "        vertical-align: top;\n",
       "    }\n",
       "\n",
       "    .dataframe thead th {\n",
       "        text-align: right;\n",
       "    }\n",
       "</style>\n",
       "<table border=\"1\" class=\"dataframe\">\n",
       "  <thead>\n",
       "    <tr style=\"text-align: right;\">\n",
       "      <th></th>\n",
       "      <th>위도</th>\n",
       "      <th>경도</th>\n",
       "      <th>시위 인원수</th>\n",
       "      <th>구별</th>\n",
       "      <th>주소</th>\n",
       "    </tr>\n",
       "    <tr>\n",
       "      <th>관할서</th>\n",
       "      <th></th>\n",
       "      <th></th>\n",
       "      <th></th>\n",
       "      <th></th>\n",
       "      <th></th>\n",
       "    </tr>\n",
       "  </thead>\n",
       "  <tbody>\n",
       "    <tr>\n",
       "      <th>금천</th>\n",
       "      <td>126.896749</td>\n",
       "      <td>37.457253</td>\n",
       "      <td>200.0</td>\n",
       "      <td>금천구</td>\n",
       "      <td>서울 금천구 시흥동 산 189</td>\n",
       "    </tr>\n",
       "    <tr>\n",
       "      <th>남대문</th>\n",
       "      <td>126.973499</td>\n",
       "      <td>37.554979</td>\n",
       "      <td>50.0</td>\n",
       "      <td>중구</td>\n",
       "      <td>서울 중구 남대문로5가 561</td>\n",
       "    </tr>\n",
       "  </tbody>\n",
       "</table>\n",
       "</div>"
      ],
      "text/plain": [
       "             위도         경도  시위 인원수   구별                주소\n",
       "관할서                                                      \n",
       "금천   126.896749  37.457253   200.0  금천구  서울 금천구 시흥동 산 189\n",
       "남대문  126.973499  37.554979    50.0   중구  서울 중구 남대문로5가 561"
      ]
     },
     "execution_count": 54,
     "metadata": {},
     "output_type": "execute_result"
    }
   ],
   "source": [
    "revise3 = pd.read_csv('./data/revise.csv', encoding='euc-kr', index_col=0)\n",
    "revise3.head(2)"
   ]
  },
  {
   "cell_type": "code",
   "execution_count": 56,
   "metadata": {
    "scrolled": true
   },
   "outputs": [
    {
     "data": {
      "text/html": [
       "<div style=\"width:100%;\"><div style=\"position:relative;width:100%;height:0;padding-bottom:60%;\"><iframe src=\"data:text/html;charset=utf-8;base64,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\" style=\"position:absolute;width:100%;height:100%;left:0;top:0;border:none !important;\" allowfullscreen webkitallowfullscreen mozallowfullscreen></iframe></div></div>"
      ],
      "text/plain": [
       "<folium.folium.Map at 0xc0d3748>"
      ]
     },
     "execution_count": 56,
     "metadata": {},
     "output_type": "execute_result"
    }
   ],
   "source": [
    "map_seoul = folium.Map(location=[37.571974, 126.9867302], zoom_start=10) \n",
    "# 행정구역 그리기\n",
    "map_seoul.choropleth(geo_data = geo_str, # 행정구역\n",
    "                     data = revise4['주간 평균 시위 인원수'],    \n",
    "                     columns = [revise4.index, revise4['주간 평균 시위 인원수']],\n",
    "                     key_on = 'feature.id', # 행정구역 지도정보 id와 데이터의 state가 일치\n",
    "                     fill_color = 'PuRd',\n",
    "                     legend_name = '서울시 시위 규모')\n",
    "\n",
    "for n, v in enumerate(revise3.index):\n",
    "    folium.CircleMarker( [ revise3['경도'][n],\n",
    "                           revise3['위도'][n] ], \n",
    "                           radius=revise3['시위 인원수'][n]*0.05,\n",
    "                           color='#124578',\n",
    "                           fill_color='#ff0000',\n",
    "                           fill=True ).add_to(map_seoul)\n",
    "\n",
    "# 관할서 마킹\n",
    "for n,v in enumerate(revise3.index):\n",
    "    #print( revise3['위도'][n], revise3['경도'][n] )\n",
    "    folium.Marker( [ revise3['경도'][n],\n",
    "                     revise3['위도'][n]\n",
    "                    ], popup=\"서울\"+v+'경찰서' ).add_to(map_seoul)\n",
    "    \n",
    "\n",
    "    \n",
    "map_seoul\n"
   ]
  },
  {
   "cell_type": "code",
   "execution_count": null,
   "metadata": {},
   "outputs": [],
   "source": []
  },
  {
   "cell_type": "code",
   "execution_count": null,
   "metadata": {},
   "outputs": [],
   "source": []
  }
 ],
 "metadata": {
  "kernelspec": {
   "display_name": "Python 3",
   "language": "python",
   "name": "python3"
  },
  "language_info": {
   "codemirror_mode": {
    "name": "ipython",
    "version": 3
   },
   "file_extension": ".py",
   "mimetype": "text/x-python",
   "name": "python",
   "nbconvert_exporter": "python",
   "pygments_lexer": "ipython3",
   "version": "3.7.1"
  }
 },
 "nbformat": 4,
 "nbformat_minor": 2
}
